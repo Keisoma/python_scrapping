{
 "cells": [
  {
   "cell_type": "code",
   "execution_count": 65,
   "id": "51f78b3e",
   "metadata": {},
   "outputs": [],
   "source": [
    "import bs4 #Utilisation de beautifulsoup pour le scraping\n",
    "import pandas\n",
    "import numpy as np\n",
    "import matplotlib.pyplot as plt\n",
    "import seaborn as sb\n",
    "from urllib import request \n",
    "import sqlite3\n",
    "\n"
   ]
  },
  {
   "cell_type": "code",
   "execution_count": 66,
   "id": "beb38156",
   "metadata": {},
   "outputs": [
    {
     "name": "stdout",
     "output_type": "stream",
     "text": [
      "<!DOCTYPE html><html lang=\"en\"><head><script>\n",
      "            (function(t, l) {\n",
      "                try {\n",
      "                    let w = window,\n",
      "                        d = document,\n",
      "                        s = d.createElement(\"script\"),\n",
      "                        f = d.getElementsByTagName(\"script\")[0];\n",
      "                    w[t] =\n",
      "                        w[t] ||\n",
      "                        function() {\n",
      "                            (w[\"_rgea\"] = w[\"_rgea\"] || [[\"uts\", new Date()]]).push(\n",
      "                                Array.prototype.slice.call(arguments)\n",
      "                            );\n",
      "                            w.RGEA && w.RGEA.p();\n",
      "                        };\n",
      "                    s.type = \"text/javascript\";\n",
      "                    s.async = true;\n",
      "                    s.defer = true;\n",
      "                    s.src = l;\n",
      "                    f.parentNode.insertBefore(s, f);\n",
      "\n",
      "                    // 되는 파라미터\n",
      "                    rgea(\"propertyId\", \"RGEA0002-32de3446-a2a6-4f9a-a387-f40138212b2b\");\n",
      "                    rgea\n"
     ]
    }
   ],
   "source": [
    "ml_url = \"https://www.op.gg/champions\"\n",
    "\n",
    "request_text = request.urlopen(ml_url).read().decode('utf-8')\n",
    "print(request_text[:1000])    "
   ]
  },
  {
   "cell_type": "code",
   "execution_count": 31,
   "id": "dce8f7e2",
   "metadata": {},
   "outputs": [],
   "source": [
    "page = bs4.BeautifulSoup(request_text, \"html.parser\")\n"
   ]
  },
  {
   "cell_type": "code",
   "execution_count": 71,
   "id": "6da88a99",
   "metadata": {},
   "outputs": [
    {
     "name": "stdout",
     "output_type": "stream",
     "text": [
      "['Champion', 'Tier', 'Win Rate', 'Pick Rate', 'Ban Rate', 'Weak Against']\n",
      "['Aatrox', '1', 49.6, 13.8, 35.9, 'Singed, Quinn, Yorick']\n",
      "['Akali', '5', 45.8, 2.7, 3.6, 'Rengar, Zac, Tahm Kench']\n",
      "['Akshan', '4', 50.9, 1.0, 1.3, 'Rengar, Poppy, Urgot']\n",
      "['Camille', '1', 50.7, 7.2, 3.1, 'Quinn, Warwick, Shen']\n",
      "[\"Cho'Gath\", '4', 50.5, 1.2, 0.2, 'Olaf, Dr. Mundo, Warwick']\n",
      "['Darius', '1', 51.3, 9.2, 27.8, 'Heimerdinger, Zac, Yorick']\n",
      "['Dr. Mundo', '3', 51.0, 1.6, 0.4, 'Udyr, Gwen, Aatrox']\n",
      "['Fiora', '1', 50.5, 8.6, 18.3, 'Heimerdinger, Akshan, Warwick']\n",
      "['Gangplank', '2', 49.0, 5.9, 4.8, 'Olaf, Akshan, Quinn']\n",
      "['Garen', '1', 51.6, 5.3, 1.9, 'Quinn, Urgot, Poppy']\n",
      "['Gnar', '4', 48.1, 2.8, 0.5, 'Sejuani, Nasus, Akshan']\n",
      "['Gragas', '4', 47.3, 2.4, 0.2, 'Trundle, Lillia, Zac']\n",
      "['Gwen', '3', 49.2, 2.4, 0.7, 'Singed, Rengar, Quinn']\n",
      "['Heimerdinger', '4', 51.6, 0.6, 0.5, 'Akshan, Jayce, Garen']\n",
      "['Illaoi', '2', 51.3, 2.7, 2.2, 'Kayle, Teemo, Mordekaiser']\n",
      "['Irelia', '2', 50.4, 5.0, 8.2, 'Rengar, Wukong, Warwick']\n",
      "['Jax', '2', 50.3, 6.0, 5.8, 'Zac, Urgot, Heimerdinger']\n",
      "['Jayce', '3', 49.0, 2.9, 0.3, 'Rengar, Ornn, Irelia']\n",
      "[\"K'Sante\", '4', 44.3, 10.6, 17.4, 'Garen, Wukong, Yorick']\n",
      "['Kayle', '4', 49.3, 2.1, 0.5, 'Dr. Mundo, Pantheon, Tahm Kench']\n",
      "['Kennen', '5', 47.6, 1.3, 0.3, 'Udyr, Zac, Nasus']\n",
      "['Kled', '2', 52.5, 1.8, 0.5, 'Heimerdinger, Pantheon, Gwen']\n",
      "['Lillia', '4', 51.1, 0.5, 0.2, 'Riven, Quinn, Warwick']\n",
      "['Malphite', '3', 50.0, 2.6, 1.6, 'Shen, Ornn, Zac']\n",
      "['Maokai', '3', 50.4, 1.6, 0.6, 'Udyr, Kled, Singed']\n",
      "['Mordekaiser', '1', 51.6, 5.7, 5.9, 'Rengar, Lillia, Singed']\n",
      "['Nasus', '1', 51.8, 5.0, 7.7, 'Lillia, Ryze, Olaf']\n",
      "['Olaf', '2', 53.0, 2.5, 1.4, 'Lillia, Akshan, Heimerdinger']\n",
      "['Ornn', '1', 51.2, 5.9, 0.9, 'Lillia, Warwick, Singed']\n",
      "['Pantheon', '3', 51.1, 1.2, 0.1, 'Maokai, Akshan, Singed']\n",
      "['Poppy', '3', 51.7, 1.2, 0.6, 'Heimerdinger, Yasuo, Wukong']\n",
      "['Quinn', '3', 51.7, 1.1, 0.5, 'Heimerdinger, Ryze, Tahm Kench']\n",
      "['Renekton', '3', 48.7, 5.5, 3.1, 'Illaoi, Rengar, Trundle']\n",
      "['Rengar', '3', 52.2, 0.9, 0.9, 'Illaoi, Maokai, Singed']\n",
      "['Riven', '2', 51.2, 3.8, 1.0, 'Kled, Heimerdinger, Olaf']\n",
      "['Rumble', '4', 48.7, 1.4, 0.3, 'Heimerdinger, Tahm Kench, Maokai']\n",
      "['Ryze', '5', 47.4, 0.6, 0.0, 'Irelia, Garen, Olaf']\n",
      "['Sejuani', '2', 51.6, 3.7, 1.1, 'Zac, Shen, Mordekaiser']\n",
      "['Sett', '2', 50.2, 6.9, 3.0, 'Zac, Olaf, Vladimir']\n",
      "['Shen', '1', 52.5, 5.1, 0.9, 'Poppy, Illaoi, Rengar']\n",
      "['Singed', '2', 53.1, 1.7, 0.4, 'Lillia, Vayne, Yorick']\n",
      "['Sion', '3', 49.7, 3.9, 0.5, \"Zac, Warwick, Cho'Gath\"]\n",
      "['Sylas', '5', 46.2, 2.0, 1.5, 'Akshan, Quinn, Zac']\n",
      "['Tahm Kench', '4', 50.0, 1.0, 0.2, 'Udyr, Sion, Yorick']\n",
      "['Teemo', '3', 50.1, 2.4, 1.9, 'Heimerdinger, Pantheon, Olaf']\n",
      "['Trundle', '5', 48.5, 0.6, 0.3, 'Wukong, Singed, Sylas']\n",
      "['Tryndamere', '3', 50.0, 2.1, 1.8, 'Warwick, Teemo, Singed']\n",
      "['Udyr', '5', 49.1, 0.6, 1.7, \"Illaoi, Cho'Gath, Olaf\"]\n",
      "['Urgot', '2', 51.9, 2.3, 0.4, 'Heimerdinger, Trundle, Pantheon']\n",
      "['Vayne', '4', 49.2, 1.5, 1.5, 'Ryze, Trundle, Nasus']\n",
      "['Vladimir', '4', 49.4, 1.2, 1.8, 'Kled, Tahm Kench, Illaoi']\n",
      "['Volibear', '4', 49.4, 1.8, 0.4, 'Lillia, Shen, Vayne']\n",
      "['Warwick', '3', 52.0, 1.5, 0.4, 'Quinn, Singed, Urgot']\n",
      "['Wukong', '3', 51.4, 1.2, 0.3, 'Heimerdinger, Zac, Illaoi']\n",
      "['Yasuo', '4', 48.6, 1.6, 2.3, 'Udyr, Kled, Tryndamere']\n",
      "['Yone', '3', 47.2, 5.6, 4.7, 'Trundle, Akshan, Olaf']\n",
      "['Yorick', '3', 50.3, 2.2, 1.7, 'Zac, Udyr, Irelia']\n",
      "['Zac', '3', 52.2, 0.8, 0.5, 'Lillia, Pantheon, Kled']\n"
     ]
    }
   ],
   "source": [
    "columns = []\n",
    "for column in page.find('main').findAll({'th'})[1:]:\n",
    "    columns.append(column.text)\n",
    "print(columns)\n",
    "\n",
    "for champion in page.find('main').find('tbody').findAll({'tr'}):\n",
    "    championinfo = []\n",
    "    counters = \"\"\n",
    "    for column in champion.findAll({'td'})[1:]:\n",
    "        if ('%' in column.text ):\n",
    "            championinfo.append(float(column.text[0:-2]))\n",
    "        elif (column.text != ''):\n",
    "            championinfo.append(column.text)\n",
    "    for counter in champion.findAll('img', {'width' : '24'}):\n",
    "        counters += counter.get('alt')+', '\n",
    "    counters = counters[0:-2]\n",
    "    championinfo.append(counters)\n",
    "    print(championinfo)"
   ]
  },
  {
   "cell_type": "code",
   "execution_count": null,
   "id": "580fb5fe",
   "metadata": {},
   "outputs": [],
   "source": []
  }
 ],
 "metadata": {
  "kernelspec": {
   "display_name": "Python 3.11.0 64-bit",
   "language": "python",
   "name": "python3"
  },
  "language_info": {
   "codemirror_mode": {
    "name": "ipython",
    "version": 3
   },
   "file_extension": ".py",
   "mimetype": "text/x-python",
   "name": "python",
   "nbconvert_exporter": "python",
   "pygments_lexer": "ipython3",
   "version": "3.11.0"
  },
  "vscode": {
   "interpreter": {
    "hash": "a3110cea3c6cc72cfad94800e0d1ca508d1a77150339a7e85053632c4c1be792"
   }
  }
 },
 "nbformat": 4,
 "nbformat_minor": 5
}
